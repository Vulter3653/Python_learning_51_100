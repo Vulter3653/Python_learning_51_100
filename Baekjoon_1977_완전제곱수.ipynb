{
  "nbformat": 4,
  "nbformat_minor": 0,
  "metadata": {
    "colab": {
      "name": "Baekjoon_1977_완전제곱수.ipynb",
      "provenance": [],
      "authorship_tag": "ABX9TyMyiyZkyPPG17fRDF3D8bez",
      "include_colab_link": true
    },
    "kernelspec": {
      "name": "python3",
      "display_name": "Python 3"
    },
    "language_info": {
      "name": "python"
    }
  },
  "cells": [
    {
      "cell_type": "markdown",
      "metadata": {
        "id": "view-in-github",
        "colab_type": "text"
      },
      "source": [
        "<a href=\"https://colab.research.google.com/github/Vulter3653/Python_learning_51_100/blob/main/Baekjoon_1977_%EC%99%84%EC%A0%84%EC%A0%9C%EA%B3%B1%EC%88%98.ipynb\" target=\"_parent\"><img src=\"https://colab.research.google.com/assets/colab-badge.svg\" alt=\"Open In Colab\"/></a>"
      ]
    },
    {
      "cell_type": "code",
      "execution_count": 9,
      "metadata": {
        "colab": {
          "base_uri": "https://localhost:8080/"
        },
        "id": "TmOiyWqFZE3J",
        "outputId": "39f91dc5-7ca5-4d91-efe5-7c22fc842041"
      },
      "outputs": [
        {
          "output_type": "stream",
          "name": "stdout",
          "text": [
            "60 \n",
            "100\n",
            "245\n",
            "64\n"
          ]
        }
      ],
      "source": [
        "min_num = int(input().rstrip())\n",
        "max_num = int(input().rstrip())\n",
        "\n",
        "a = []\n",
        "x = 1\n",
        "while x**2 <= max_num:\n",
        "  if min_num <= x**2:\n",
        "    a.append(x**2)\n",
        "  x +=1\n",
        "\n",
        "if len(a) == 0:\n",
        "  print(-1)\n",
        "else:\n",
        "  print(sum(a))\n",
        "  print(min(a))"
      ]
    },
    {
      "cell_type": "code",
      "source": [
        "import sys\n",
        "min_num = int(sys.stdin.readline().rstrip())\n",
        "max_num = int(sys.stdin.readline().rstrip())\n",
        "\n",
        "a = []\n",
        "x = 1\n",
        "while x**2 <= max_num:\n",
        "  if min_num <= x**2:\n",
        "    a.append(x**2)\n",
        "  x +=1\n",
        "\n",
        "if len(a) == 0:\n",
        "  print(-1)\n",
        "else:\n",
        "  print(sum(a))\n",
        "  print(min(a))"
      ],
      "metadata": {
        "id": "feiGptUddcw3"
      },
      "execution_count": null,
      "outputs": []
    }
  ]
}