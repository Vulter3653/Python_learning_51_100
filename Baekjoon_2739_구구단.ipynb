{
  "nbformat": 4,
  "nbformat_minor": 0,
  "metadata": {
    "colab": {
      "name": "Baekjoon_2739_구구단.ipynb",
      "provenance": [],
      "authorship_tag": "ABX9TyOcm9TvRkeV0PJyMI+2kalA",
      "include_colab_link": true
    },
    "kernelspec": {
      "name": "python3",
      "display_name": "Python 3"
    },
    "language_info": {
      "name": "python"
    }
  },
  "cells": [
    {
      "cell_type": "markdown",
      "metadata": {
        "id": "view-in-github",
        "colab_type": "text"
      },
      "source": [
        "<a href=\"https://colab.research.google.com/github/Vulter3653/Python_learning_51_100/blob/main/Baekjoon_2739_%EA%B5%AC%EA%B5%AC%EB%8B%A8.ipynb\" target=\"_parent\"><img src=\"https://colab.research.google.com/assets/colab-badge.svg\" alt=\"Open In Colab\"/></a>"
      ]
    },
    {
      "cell_type": "code",
      "execution_count": 1,
      "metadata": {
        "colab": {
          "base_uri": "https://localhost:8080/"
        },
        "id": "H2mPwUbro6Hi",
        "outputId": "1dfe2606-b966-41f1-8cbd-62c19ab7bc54"
      },
      "outputs": [
        {
          "output_type": "stream",
          "name": "stdout",
          "text": [
            "2\n",
            "2 * 1 = 2\n",
            "2 * 2 = 4\n",
            "2 * 3 = 6\n",
            "2 * 4 = 8\n",
            "2 * 5 = 10\n",
            "2 * 6 = 12\n",
            "2 * 7 = 14\n",
            "2 * 8 = 16\n",
            "2 * 9 = 18\n"
          ]
        }
      ],
      "source": [
        "N = int(input().rstrip())\n",
        "\n",
        "for x in range(1,10):\n",
        "  print(str(N)+\" * \"+str(x)+\" = \"+str(N*x))"
      ]
    },
    {
      "cell_type": "code",
      "source": [
        "import sys\n",
        "N = int(sys.stdin.readline().rstrip())\n",
        "\n",
        "for x in range(1,10):\n",
        "  print(str(N)+\" * \"+str(x)+\" = \"+str(N*x))"
      ],
      "metadata": {
        "id": "37LoRlAxpt8n"
      },
      "execution_count": null,
      "outputs": []
    }
  ]
}