{
  "nbformat": 4,
  "nbformat_minor": 0,
  "metadata": {
    "colab": {
      "name": "Baekjoon_5522_카드 게임.ipynb",
      "provenance": [],
      "collapsed_sections": [],
      "authorship_tag": "ABX9TyM0R1ABBX9ZUgq4650AwBiV",
      "include_colab_link": true
    },
    "kernelspec": {
      "name": "python3",
      "display_name": "Python 3"
    },
    "language_info": {
      "name": "python"
    }
  },
  "cells": [
    {
      "cell_type": "markdown",
      "metadata": {
        "id": "view-in-github",
        "colab_type": "text"
      },
      "source": [
        "<a href=\"https://colab.research.google.com/github/Vulter3653/Python_learning_51_100/blob/main/Baekjoon_5522_%EC%B9%B4%EB%93%9C_%EA%B2%8C%EC%9E%84.ipynb\" target=\"_parent\"><img src=\"https://colab.research.google.com/assets/colab-badge.svg\" alt=\"Open In Colab\"/></a>"
      ]
    },
    {
      "cell_type": "code",
      "execution_count": 3,
      "metadata": {
        "colab": {
          "base_uri": "https://localhost:8080/"
        },
        "id": "kcuTaBo8hNW1",
        "outputId": "cea6744c-4af7-4141-b64e-cb944b6bc46d"
      },
      "outputs": [
        {
          "output_type": "stream",
          "name": "stdout",
          "text": [
            "0\n",
            "100\n",
            "0\n",
            "10\n",
            "100\n",
            "210\n"
          ]
        }
      ],
      "source": [
        "sc = 0\n",
        "for _ in range(5):\n",
        "  sc += int(input().rstrip())\n",
        "print(sc)"
      ]
    },
    {
      "cell_type": "code",
      "source": [
        "import sys\n",
        "\n",
        "sc = 0\n",
        "for _ in range(5):\n",
        "  sc += int(sys.stdin.readline().rstrip())\n",
        "print(sc)"
      ],
      "metadata": {
        "id": "BdNXb8o2h4qi"
      },
      "execution_count": null,
      "outputs": []
    }
  ]
}