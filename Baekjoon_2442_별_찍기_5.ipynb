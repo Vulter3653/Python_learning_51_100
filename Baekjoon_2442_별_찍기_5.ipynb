{
  "nbformat": 4,
  "nbformat_minor": 0,
  "metadata": {
    "colab": {
      "name": "Baekjoon_2442_.ipynb",
      "provenance": [],
      "authorship_tag": "ABX9TyP2dfSHL2IqNpReGgjFhViP",
      "include_colab_link": true
    },
    "kernelspec": {
      "name": "python3",
      "display_name": "Python 3"
    },
    "language_info": {
      "name": "python"
    }
  },
  "cells": [
    {
      "cell_type": "markdown",
      "metadata": {
        "id": "view-in-github",
        "colab_type": "text"
      },
      "source": [
        "<a href=\"https://colab.research.google.com/github/Vulter3653/Python_learning_51_100/blob/main/Baekjoon_2442_%EB%B3%84_%EC%B0%8D%EA%B8%B0_5.ipynb\" target=\"_parent\"><img src=\"https://colab.research.google.com/assets/colab-badge.svg\" alt=\"Open In Colab\"/></a>"
      ]
    },
    {
      "cell_type": "code",
      "execution_count": 13,
      "metadata": {
        "colab": {
          "base_uri": "https://localhost:8080/"
        },
        "id": "zq9yJaEUzxmL",
        "outputId": "e37cabd5-6fe9-4589-eaac-00cdcfa92ef4"
      },
      "outputs": [
        {
          "output_type": "stream",
          "name": "stdout",
          "text": [
            "5\n",
            "    *\n",
            "   ***\n",
            "  *****\n",
            " *******\n",
            "*********\n"
          ]
        }
      ],
      "source": [
        "x = int(input().rstrip())\n",
        "a = x-1\n",
        "for b in range(x):\n",
        "  print(' '*(a-b)+'*'*b+'*'+'*'*b)"
      ]
    },
    {
      "cell_type": "code",
      "source": [
        "import sys\n",
        "\n",
        "x = int(sys.stdin.readline().rstrip())\n",
        "a = x-1\n",
        "for b in range(x):\n",
        "  print(' '*(a-b)+'*'*b+'*'+'*'*b)"
      ],
      "metadata": {
        "id": "ytrGt4ik3n9A"
      },
      "execution_count": null,
      "outputs": []
    }
  ]
}