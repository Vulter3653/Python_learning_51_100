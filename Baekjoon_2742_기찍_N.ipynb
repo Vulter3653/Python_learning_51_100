{
  "nbformat": 4,
  "nbformat_minor": 0,
  "metadata": {
    "colab": {
      "name": "Baekjoon_2742_기찍 N.ipynb",
      "provenance": [],
      "authorship_tag": "ABX9TyMdXb0G2fj7guxuRep0T7w3",
      "include_colab_link": true
    },
    "kernelspec": {
      "name": "python3",
      "display_name": "Python 3"
    },
    "language_info": {
      "name": "python"
    }
  },
  "cells": [
    {
      "cell_type": "markdown",
      "metadata": {
        "id": "view-in-github",
        "colab_type": "text"
      },
      "source": [
        "<a href=\"https://colab.research.google.com/github/Vulter3653/Python_learning_51_100/blob/main/Baekjoon_2742_%EA%B8%B0%EC%B0%8D_N.ipynb\" target=\"_parent\"><img src=\"https://colab.research.google.com/assets/colab-badge.svg\" alt=\"Open In Colab\"/></a>"
      ]
    },
    {
      "cell_type": "code",
      "execution_count": 1,
      "metadata": {
        "colab": {
          "base_uri": "https://localhost:8080/"
        },
        "id": "b-e4XsIXuvhA",
        "outputId": "2636a187-aead-4066-e170-cf8d572323c7"
      },
      "outputs": [
        {
          "output_type": "stream",
          "name": "stdout",
          "text": [
            "5\n",
            "5\n",
            "4\n",
            "3\n",
            "2\n",
            "1\n"
          ]
        }
      ],
      "source": [
        "a = int(input().rstrip())\n",
        "\n",
        "while a > 0 :\n",
        "  print(a)\n",
        "  a -=1"
      ]
    },
    {
      "cell_type": "code",
      "source": [
        "import sys\n",
        "a = int(sys.stdin.readline().rstrip())\n",
        "\n",
        "while a > 0 :\n",
        "  print(a)\n",
        "  a -=1"
      ],
      "metadata": {
        "id": "VkE7sTBju9i4"
      },
      "execution_count": null,
      "outputs": []
    }
  ]
}