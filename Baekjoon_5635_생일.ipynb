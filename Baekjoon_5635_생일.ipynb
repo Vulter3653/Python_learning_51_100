{
  "nbformat": 4,
  "nbformat_minor": 0,
  "metadata": {
    "colab": {
      "name": "Baekjoon_5635_생일.ipynb",
      "provenance": [],
      "collapsed_sections": [],
      "authorship_tag": "ABX9TyNwkF5Q3BTywNBZUkw8f/jM",
      "include_colab_link": true
    },
    "kernelspec": {
      "name": "python3",
      "display_name": "Python 3"
    },
    "language_info": {
      "name": "python"
    }
  },
  "cells": [
    {
      "cell_type": "markdown",
      "metadata": {
        "id": "view-in-github",
        "colab_type": "text"
      },
      "source": [
        "<a href=\"https://colab.research.google.com/github/Vulter3653/Python_learning_51_100/blob/main/Baekjoon_5635_%EC%83%9D%EC%9D%BC.ipynb\" target=\"_parent\"><img src=\"https://colab.research.google.com/assets/colab-badge.svg\" alt=\"Open In Colab\"/></a>"
      ]
    },
    {
      "cell_type": "code",
      "execution_count": 8,
      "metadata": {
        "colab": {
          "base_uri": "https://localhost:8080/"
        },
        "id": "-CcRxKsKL4ku",
        "outputId": "91aed1c0-125b-4f85-df23-021dba9e52fc"
      },
      "outputs": [
        {
          "output_type": "stream",
          "name": "stdout",
          "text": [
            "5\n",
            "Mickey 1 10 1991\n",
            "Alice 30 12 1990\n",
            "Tom 15 8 1993\n",
            "Jerry 18 9 1990\n",
            "Garfield 20 9 1990\n",
            "Jerry\n",
            "Tom\n"
          ]
        }
      ],
      "source": [
        "a = []\n",
        "\n",
        "for _ in range(int(input().rstrip())):\n",
        "  name, d, m, y = input().rstrip().split()\n",
        "  b = (int(y),int(m),int(d),name)\n",
        "  a.append(b)\n",
        "a.sort(key = lambda a : (a[0], a[1], a[2]))\n",
        "\n",
        "print(a[-1][-1])\n",
        "print(a[0][-1])"
      ]
    },
    {
      "cell_type": "code",
      "source": [
        "import sys\n",
        "\n",
        "a = []\n",
        "\n",
        "for _ in range(int(sys.stdin.readline().rstrip())):\n",
        "  name, d, m, y = sys.stdin.readline().rstrip().split()\n",
        "  b = (int(y),int(m),int(d),name)\n",
        "  a.append(b)\n",
        "a.sort(key = lambda a : (a[0], a[1], a[2]))\n",
        "\n",
        "print(a[-1][-1])\n",
        "print(a[0][-1])"
      ],
      "metadata": {
        "id": "oDR8Y3asQbZg"
      },
      "execution_count": null,
      "outputs": []
    }
  ]
}