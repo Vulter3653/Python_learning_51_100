{
  "nbformat": 4,
  "nbformat_minor": 0,
  "metadata": {
    "colab": {
      "name": "Baekjoon_2446_별 찍기 - 9.ipynb",
      "provenance": [],
      "collapsed_sections": [],
      "authorship_tag": "ABX9TyPmPll21c97Jn0KvcN4MLd/",
      "include_colab_link": true
    },
    "kernelspec": {
      "name": "python3",
      "display_name": "Python 3"
    },
    "language_info": {
      "name": "python"
    }
  },
  "cells": [
    {
      "cell_type": "markdown",
      "metadata": {
        "id": "view-in-github",
        "colab_type": "text"
      },
      "source": [
        "<a href=\"https://colab.research.google.com/github/Vulter3653/Python_learning_51_100/blob/main/Baekjoon_2446_%EB%B3%84_%EC%B0%8D%EA%B8%B0_9.ipynb\" target=\"_parent\"><img src=\"https://colab.research.google.com/assets/colab-badge.svg\" alt=\"Open In Colab\"/></a>"
      ]
    },
    {
      "cell_type": "code",
      "execution_count": 4,
      "metadata": {
        "colab": {
          "base_uri": "https://localhost:8080/"
        },
        "id": "y7XJKrRRrttd",
        "outputId": "6fca2694-7362-4450-b59f-a0bca7d62d2a"
      },
      "outputs": [
        {
          "output_type": "stream",
          "name": "stdout",
          "text": [
            "5\n",
            "*********\n",
            " *******\n",
            "  *****\n",
            "   ***\n",
            "    *\n",
            "   ***\n",
            "  *****\n",
            " *******\n",
            "*********\n"
          ]
        }
      ],
      "source": [
        "a = int(input())\n",
        "\n",
        "for x in range(a):\n",
        "  print(' '*x+'*'*(a-x)+'*'*(a-x-1))\n",
        "for x in range(2,a+1):\n",
        "  print(' '*(a-x)+'*'*x+\"*\"*(x-1))  "
      ]
    },
    {
      "cell_type": "code",
      "source": [
        "import sys\n",
        "\n",
        "a = int(sys.stdin.readline().rstrip())\n",
        "\n",
        "for x in range(a):\n",
        "  print(' '*x+'*'*(a-x)+'*'*(a-x-1))\n",
        "for x in range(2,a+1):\n",
        "  print(' '*(a-x)+'*'*x+\"*\"*(x-1))  "
      ],
      "metadata": {
        "id": "fLa3HsFqtyvU"
      },
      "execution_count": null,
      "outputs": []
    }
  ]
}