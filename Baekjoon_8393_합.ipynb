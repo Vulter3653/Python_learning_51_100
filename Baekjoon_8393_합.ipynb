{
  "nbformat": 4,
  "nbformat_minor": 0,
  "metadata": {
    "colab": {
      "name": "Baekjoon_8393_합.ipynb",
      "provenance": [],
      "authorship_tag": "ABX9TyOLrqAbtUHJIm41QDsyn0MQ",
      "include_colab_link": true
    },
    "kernelspec": {
      "name": "python3",
      "display_name": "Python 3"
    },
    "language_info": {
      "name": "python"
    }
  },
  "cells": [
    {
      "cell_type": "markdown",
      "metadata": {
        "id": "view-in-github",
        "colab_type": "text"
      },
      "source": [
        "<a href=\"https://colab.research.google.com/github/Vulter3653/Python_learning_51_100/blob/main/Baekjoon_8393_%ED%95%A9.ipynb\" target=\"_parent\"><img src=\"https://colab.research.google.com/assets/colab-badge.svg\" alt=\"Open In Colab\"/></a>"
      ]
    },
    {
      "cell_type": "code",
      "execution_count": 3,
      "metadata": {
        "colab": {
          "base_uri": "https://localhost:8080/"
        },
        "id": "FR5jqIJIL7TZ",
        "outputId": "6af7157f-0d5e-4236-eef0-aa3f4821f550"
      },
      "outputs": [
        {
          "output_type": "stream",
          "name": "stdout",
          "text": [
            "10\n",
            "55\n"
          ]
        }
      ],
      "source": [
        "a = 0\n",
        "for x in range(1,int(input().rstrip())+1):\n",
        "  a += x\n",
        "print(a)"
      ]
    },
    {
      "cell_type": "code",
      "source": [
        "import sys\n",
        "\n",
        "a = 0\n",
        "for x in range(1,int(sys.stdin.readline().rstrip())+1):\n",
        "  a += x\n",
        "print(a)"
      ],
      "metadata": {
        "id": "Wsqaph7bMPb-"
      },
      "execution_count": null,
      "outputs": []
    }
  ]
}