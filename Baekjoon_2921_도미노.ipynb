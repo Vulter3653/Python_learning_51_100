{
  "nbformat": 4,
  "nbformat_minor": 0,
  "metadata": {
    "colab": {
      "name": "Baekjoon_2921_도미노.ipynb",
      "provenance": [],
      "collapsed_sections": [],
      "authorship_tag": "ABX9TyP0tuEBeneIjVo2YVy71nb6",
      "include_colab_link": true
    },
    "kernelspec": {
      "name": "python3",
      "display_name": "Python 3"
    },
    "language_info": {
      "name": "python"
    }
  },
  "cells": [
    {
      "cell_type": "markdown",
      "metadata": {
        "id": "view-in-github",
        "colab_type": "text"
      },
      "source": [
        "<a href=\"https://colab.research.google.com/github/Vulter3653/Python_learning_51_100/blob/main/Baekjoon_2921_%EB%8F%84%EB%AF%B8%EB%85%B8.ipynb\" target=\"_parent\"><img src=\"https://colab.research.google.com/assets/colab-badge.svg\" alt=\"Open In Colab\"/></a>"
      ]
    },
    {
      "cell_type": "code",
      "execution_count": 9,
      "metadata": {
        "colab": {
          "base_uri": "https://localhost:8080/"
        },
        "id": "12dJSefZE3ga",
        "outputId": "47255f95-838a-4ff6-d677-85f93a43b47c"
      },
      "outputs": [
        {
          "output_type": "stream",
          "name": "stdout",
          "text": [
            "15\n",
            "2040\n"
          ]
        }
      ],
      "source": [
        "x = int(input())\n",
        "a = 0\n",
        "for y in range(x+1):\n",
        "  for r in range(y,x+1):\n",
        "    a += (y+r)\n",
        "print(a)"
      ]
    },
    {
      "cell_type": "code",
      "source": [
        "import sys\n",
        "x = int(sys.stdin.readline().rstrip())\n",
        "a = 0\n",
        "for y in range(x+1):\n",
        "  for r in range(y,x+1):\n",
        "    a += (y+r)\n",
        "print(a)"
      ],
      "metadata": {
        "id": "3jrJzqRNKAq1"
      },
      "execution_count": null,
      "outputs": []
    }
  ]
}