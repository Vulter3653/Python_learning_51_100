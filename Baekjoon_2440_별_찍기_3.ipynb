{
  "nbformat": 4,
  "nbformat_minor": 0,
  "metadata": {
    "colab": {
      "name": "Baekjoon_2440_별 찍기 - 3.ipynb",
      "provenance": [],
      "authorship_tag": "ABX9TyNmtcVBvn/EnobjbJo5M/65",
      "include_colab_link": true
    },
    "kernelspec": {
      "name": "python3",
      "display_name": "Python 3"
    },
    "language_info": {
      "name": "python"
    }
  },
  "cells": [
    {
      "cell_type": "markdown",
      "metadata": {
        "id": "view-in-github",
        "colab_type": "text"
      },
      "source": [
        "<a href=\"https://colab.research.google.com/github/Vulter3653/Python_learning_51_100/blob/main/Baekjoon_2440_%EB%B3%84_%EC%B0%8D%EA%B8%B0_3.ipynb\" target=\"_parent\"><img src=\"https://colab.research.google.com/assets/colab-badge.svg\" alt=\"Open In Colab\"/></a>"
      ]
    },
    {
      "cell_type": "code",
      "execution_count": 2,
      "metadata": {
        "colab": {
          "base_uri": "https://localhost:8080/"
        },
        "id": "a0pqbe4PLxlf",
        "outputId": "02d33544-38f1-47f8-ca0b-fc020a17c08b"
      },
      "outputs": [
        {
          "output_type": "stream",
          "name": "stdout",
          "text": [
            "5\n",
            "*****\n",
            "****\n",
            "***\n",
            "**\n",
            "*\n"
          ]
        }
      ],
      "source": [
        "x = int(input().rstrip())\n",
        "while x > 0:\n",
        "  print(x*'*')\n",
        "  x -= 1 "
      ]
    },
    {
      "cell_type": "code",
      "source": [
        "import sys\n",
        "x = int(sys.stdin.readline().rstrip())\n",
        "while x > 0:\n",
        "  print(x*'*')\n",
        "  x -= 1 "
      ],
      "metadata": {
        "id": "BCEdNwMPMGnE"
      },
      "execution_count": null,
      "outputs": []
    }
  ]
}