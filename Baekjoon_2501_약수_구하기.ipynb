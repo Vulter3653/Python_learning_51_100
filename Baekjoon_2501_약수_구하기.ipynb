{
  "nbformat": 4,
  "nbformat_minor": 0,
  "metadata": {
    "colab": {
      "name": "Baekjoon_2501_약수 구하기.ipynb",
      "provenance": [],
      "collapsed_sections": [],
      "authorship_tag": "ABX9TyPrf5IskPtydHHkr2/sFhIn",
      "include_colab_link": true
    },
    "kernelspec": {
      "name": "python3",
      "display_name": "Python 3"
    },
    "language_info": {
      "name": "python"
    }
  },
  "cells": [
    {
      "cell_type": "markdown",
      "metadata": {
        "id": "view-in-github",
        "colab_type": "text"
      },
      "source": [
        "<a href=\"https://colab.research.google.com/github/Vulter3653/Python_learning_51_100/blob/main/Baekjoon_2501_%EC%95%BD%EC%88%98_%EA%B5%AC%ED%95%98%EA%B8%B0.ipynb\" target=\"_parent\"><img src=\"https://colab.research.google.com/assets/colab-badge.svg\" alt=\"Open In Colab\"/></a>"
      ]
    },
    {
      "cell_type": "code",
      "execution_count": 8,
      "metadata": {
        "colab": {
          "base_uri": "https://localhost:8080/"
        },
        "id": "fihDLc1qPXgS",
        "outputId": "5158f204-3ce3-4028-ddc6-2fb91bc98ec8"
      },
      "outputs": [
        {
          "output_type": "stream",
          "name": "stdout",
          "text": [
            "10000 500\n",
            "0\n"
          ]
        }
      ],
      "source": [
        "n,k = map(int,input().rstrip().split())\n",
        "\n",
        "b = []\n",
        "\n",
        "for x in range(1,n+1):\n",
        "  if n%x == 0:\n",
        "    b.append(x)\n",
        "\n",
        "if len(b) < k:\n",
        "  print(0)\n",
        "else:\n",
        "  print(b[k-1])"
      ]
    },
    {
      "cell_type": "code",
      "source": [
        "import sys\n",
        "n,k = map(int,sys.stdin.readline().rstrip().split())\n",
        "\n",
        "b = []\n",
        "\n",
        "for x in range(1,n+1):\n",
        "  if n%x == 0:\n",
        "    b.append(x)\n",
        "\n",
        "if len(b) < k:\n",
        "  print(0)\n",
        "else:\n",
        "  print(b[k-1])"
      ],
      "metadata": {
        "id": "VA5ASdP5QgIy"
      },
      "execution_count": null,
      "outputs": []
    }
  ]
}