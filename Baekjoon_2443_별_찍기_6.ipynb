{
  "nbformat": 4,
  "nbformat_minor": 0,
  "metadata": {
    "colab": {
      "name": "Baekjoon_2443_별 찍기 - 6.ipynb",
      "provenance": [],
      "collapsed_sections": [],
      "authorship_tag": "ABX9TyNr5GL0TOomsq4GRrPZV87Z",
      "include_colab_link": true
    },
    "kernelspec": {
      "name": "python3",
      "display_name": "Python 3"
    },
    "language_info": {
      "name": "python"
    }
  },
  "cells": [
    {
      "cell_type": "markdown",
      "metadata": {
        "id": "view-in-github",
        "colab_type": "text"
      },
      "source": [
        "<a href=\"https://colab.research.google.com/github/Vulter3653/Python_learning_51_100/blob/main/Baekjoon_2443_%EB%B3%84_%EC%B0%8D%EA%B8%B0_6.ipynb\" target=\"_parent\"><img src=\"https://colab.research.google.com/assets/colab-badge.svg\" alt=\"Open In Colab\"/></a>"
      ]
    },
    {
      "cell_type": "code",
      "execution_count": 2,
      "metadata": {
        "colab": {
          "base_uri": "https://localhost:8080/"
        },
        "id": "ZL4iCS8pM56q",
        "outputId": "6fd2d6f4-e87d-4ecf-d030-2ab21e1f600d"
      },
      "outputs": [
        {
          "output_type": "stream",
          "name": "stdout",
          "text": [
            "5\n",
            "*********\n",
            " *******\n",
            "  *****\n",
            "   ***\n",
            "    *\n"
          ]
        }
      ],
      "source": [
        "x = int(input().rstrip())\n",
        "a = x-1\n",
        "for b in range(x):\n",
        "  print(' '*(b)+'*'*a+'*'+'*'*a)\n",
        "  a-=1"
      ]
    },
    {
      "cell_type": "code",
      "source": [
        "import sys\n",
        "\n",
        "x = int(sys.stdin.readline().rstrip())\n",
        "a = x-1\n",
        "for b in range(x):\n",
        "  print(' '*(b)+'*'*a+'*'+'*'*a)\n",
        "  a-=1"
      ],
      "metadata": {
        "id": "KTAv-Ra0O1w-"
      },
      "execution_count": null,
      "outputs": []
    }
  ]
}