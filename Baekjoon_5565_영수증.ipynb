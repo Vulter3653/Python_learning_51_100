{
  "nbformat": 4,
  "nbformat_minor": 0,
  "metadata": {
    "colab": {
      "name": "Baekjoon_5565_영수증.ipynb",
      "provenance": [],
      "authorship_tag": "ABX9TyO2TLyC1CQoeoH5BDrVocrD",
      "include_colab_link": true
    },
    "kernelspec": {
      "name": "python3",
      "display_name": "Python 3"
    },
    "language_info": {
      "name": "python"
    }
  },
  "cells": [
    {
      "cell_type": "markdown",
      "metadata": {
        "id": "view-in-github",
        "colab_type": "text"
      },
      "source": [
        "<a href=\"https://colab.research.google.com/github/Vulter3653/Python_learning_51_100/blob/main/Baekjoon_5565_%EC%98%81%EC%88%98%EC%A6%9D.ipynb\" target=\"_parent\"><img src=\"https://colab.research.google.com/assets/colab-badge.svg\" alt=\"Open In Colab\"/></a>"
      ]
    },
    {
      "cell_type": "code",
      "execution_count": 2,
      "metadata": {
        "colab": {
          "base_uri": "https://localhost:8080/"
        },
        "id": "0VlJHjgfJV-2",
        "outputId": "2fc45df9-5b9b-46e5-c10d-5d12b3f80e31"
      },
      "outputs": [
        {
          "output_type": "stream",
          "name": "stdout",
          "text": [
            "20000\n",
            "1000\n",
            "2000\n",
            "3000\n",
            "4000\n",
            "100\n",
            "200\n",
            "300\n",
            "400\n",
            "5000\n",
            "4000\n"
          ]
        }
      ],
      "source": [
        "a = int(input().rstrip())\n",
        "b = []\n",
        "for _ in range(9):\n",
        "  b.append(int(input().rstrip()))\n",
        "print(a-sum(b))"
      ]
    },
    {
      "cell_type": "code",
      "source": [
        "import sys\n",
        "a = int(sys.stdin.readline().rstrip())\n",
        "b = []\n",
        "for _ in range(9):\n",
        "  b.append(int(sys.stdin.readline().rstrip()))\n",
        "print(a-sum(b))"
      ],
      "metadata": {
        "id": "BrQeLhlyKil_"
      },
      "execution_count": null,
      "outputs": []
    }
  ]
}