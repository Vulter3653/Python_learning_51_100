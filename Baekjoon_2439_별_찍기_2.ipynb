{
  "nbformat": 4,
  "nbformat_minor": 0,
  "metadata": {
    "colab": {
      "name": "Baekjoon_2439_별 찍기 - 2.ipynb",
      "provenance": [],
      "authorship_tag": "ABX9TyMMbld4OmHylHUjX1saLsBj",
      "include_colab_link": true
    },
    "kernelspec": {
      "name": "python3",
      "display_name": "Python 3"
    },
    "language_info": {
      "name": "python"
    }
  },
  "cells": [
    {
      "cell_type": "markdown",
      "metadata": {
        "id": "view-in-github",
        "colab_type": "text"
      },
      "source": [
        "<a href=\"https://colab.research.google.com/github/Vulter3653/Python_learning_51_100/blob/main/Baekjoon_2439_%EB%B3%84_%EC%B0%8D%EA%B8%B0_2.ipynb\" target=\"_parent\"><img src=\"https://colab.research.google.com/assets/colab-badge.svg\" alt=\"Open In Colab\"/></a>"
      ]
    },
    {
      "cell_type": "code",
      "execution_count": 1,
      "metadata": {
        "colab": {
          "base_uri": "https://localhost:8080/"
        },
        "id": "KSvO-vVSwUOz",
        "outputId": "00e10c69-1497-4ee4-eb31-44d9e7887609"
      },
      "outputs": [
        {
          "output_type": "stream",
          "name": "stdout",
          "text": [
            "5\n",
            "    *\n",
            "   **\n",
            "  ***\n",
            " ****\n",
            "*****\n"
          ]
        }
      ],
      "source": [
        "a = int(input().rstrip())\n",
        "\n",
        "for x in range(1,a+1):\n",
        "  print((a-x)*' '+x*'*')"
      ]
    },
    {
      "cell_type": "code",
      "source": [
        "import sys\n",
        "a = int(sys.stdin.readline().rstrip())\n",
        "\n",
        "for x in range(1,a+1):\n",
        "  print((a-x)*' '+x*'*')"
      ],
      "metadata": {
        "id": "G__Ep4j4wh6x"
      },
      "execution_count": null,
      "outputs": []
    }
  ]
}