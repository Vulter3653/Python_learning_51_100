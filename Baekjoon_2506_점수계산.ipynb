{
  "nbformat": 4,
  "nbformat_minor": 0,
  "metadata": {
    "colab": {
      "name": "Baekjoon_2506_점수계산.ipynb",
      "provenance": [],
      "collapsed_sections": [],
      "authorship_tag": "ABX9TyNiYpxDKT0Yx9FpnOKNKP8H",
      "include_colab_link": true
    },
    "kernelspec": {
      "name": "python3",
      "display_name": "Python 3"
    },
    "language_info": {
      "name": "python"
    }
  },
  "cells": [
    {
      "cell_type": "markdown",
      "metadata": {
        "id": "view-in-github",
        "colab_type": "text"
      },
      "source": [
        "<a href=\"https://colab.research.google.com/github/Vulter3653/Python_learning_51_100/blob/main/Baekjoon_2506_%EC%A0%90%EC%88%98%EA%B3%84%EC%82%B0.ipynb\" target=\"_parent\"><img src=\"https://colab.research.google.com/assets/colab-badge.svg\" alt=\"Open In Colab\"/></a>"
      ]
    },
    {
      "cell_type": "code",
      "execution_count": 3,
      "metadata": {
        "colab": {
          "base_uri": "https://localhost:8080/"
        },
        "id": "ji8oxXMHuaSD",
        "outputId": "675ff859-c3c6-42c6-c596-b61680022e55"
      },
      "outputs": [
        {
          "output_type": "stream",
          "name": "stdout",
          "text": [
            "10\n",
            "1 0 1 1 1 0 0 1 1 0\n",
            "10\n"
          ]
        }
      ],
      "source": [
        "from collections import deque\n",
        "\n",
        "a = int(input())\n",
        "b = deque(list(input().rstrip().split()))\n",
        "score = 0\n",
        "cnt = 0\n",
        "\n",
        "for _ in range(a):\n",
        "  x = b.popleft()\n",
        "  if x == \"1\":\n",
        "    cnt += 1\n",
        "    score += cnt\n",
        "  else:\n",
        "    cnt = 0\n",
        "    \n",
        "print(score)"
      ]
    },
    {
      "cell_type": "code",
      "source": [
        "import sys\n",
        "from collections import deque\n",
        "\n",
        "a = int(sys.stdin.readline().rstrip())\n",
        "b = deque(list(sys.stdin.readline().rstrip().split()))\n",
        "score = 0\n",
        "cnt = 0\n",
        "\n",
        "for _ in range(a):\n",
        "  x = b.popleft()\n",
        "  if x == \"1\":\n",
        "    cnt += 1\n",
        "    score += cnt\n",
        "  else:\n",
        "    cnt = 0\n",
        "    \n",
        "print(score)"
      ],
      "metadata": {
        "id": "SNmVph6LwCFA"
      },
      "execution_count": null,
      "outputs": []
    }
  ]
}