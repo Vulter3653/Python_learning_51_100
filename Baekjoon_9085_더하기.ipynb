{
  "nbformat": 4,
  "nbformat_minor": 0,
  "metadata": {
    "colab": {
      "name": "Baekjoon_9085_더하기.ipynb",
      "provenance": [],
      "authorship_tag": "ABX9TyPkLoRJCSnAoPvhKCIB0alq",
      "include_colab_link": true
    },
    "kernelspec": {
      "name": "python3",
      "display_name": "Python 3"
    },
    "language_info": {
      "name": "python"
    }
  },
  "cells": [
    {
      "cell_type": "markdown",
      "metadata": {
        "id": "view-in-github",
        "colab_type": "text"
      },
      "source": [
        "<a href=\"https://colab.research.google.com/github/Vulter3653/Python_learning_51_100/blob/main/Baekjoon_9085_%EB%8D%94%ED%95%98%EA%B8%B0.ipynb\" target=\"_parent\"><img src=\"https://colab.research.google.com/assets/colab-badge.svg\" alt=\"Open In Colab\"/></a>"
      ]
    },
    {
      "cell_type": "code",
      "execution_count": 1,
      "metadata": {
        "colab": {
          "base_uri": "https://localhost:8080/"
        },
        "id": "tP1mBHx5iQU4",
        "outputId": "fed19397-4de8-41b7-96e7-8e778730dbf5"
      },
      "outputs": [
        {
          "output_type": "stream",
          "name": "stdout",
          "text": [
            "2\n",
            "5\n",
            "1 1 1 1 1\n",
            "5\n",
            "7\n",
            "1 2 3 4 5 6 7\n",
            "28\n"
          ]
        }
      ],
      "source": [
        "for _ in range(int(input().rstrip())):\n",
        "  input()\n",
        "  a = list(map(int,input().rstrip().split()))\n",
        "  print(sum(a))"
      ]
    },
    {
      "cell_type": "code",
      "source": [
        "import sys\n",
        "\n",
        "for _ in range(int(sys.stdin.readline().rstrip())):\n",
        "  sys.stdin.readline()\n",
        "  a = list(map(int,sys.stdin.readline().rstrip().split()))\n",
        "  print(sum(a))"
      ],
      "metadata": {
        "id": "IQ3XFp8zjMz1"
      },
      "execution_count": null,
      "outputs": []
    }
  ]
}