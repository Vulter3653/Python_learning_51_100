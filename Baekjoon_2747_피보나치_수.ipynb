{
  "nbformat": 4,
  "nbformat_minor": 0,
  "metadata": {
    "colab": {
      "name": "Baekjoon_2747_피보나치 수.ipynb",
      "provenance": [],
      "collapsed_sections": [],
      "authorship_tag": "ABX9TyOY4QPZP4LEg4OESc/UG2k+",
      "include_colab_link": true
    },
    "kernelspec": {
      "name": "python3",
      "display_name": "Python 3"
    },
    "language_info": {
      "name": "python"
    }
  },
  "cells": [
    {
      "cell_type": "markdown",
      "metadata": {
        "id": "view-in-github",
        "colab_type": "text"
      },
      "source": [
        "<a href=\"https://colab.research.google.com/github/Vulter3653/Python_learning_51_100/blob/main/Baekjoon_2747_%ED%94%BC%EB%B3%B4%EB%82%98%EC%B9%98_%EC%88%98.ipynb\" target=\"_parent\"><img src=\"https://colab.research.google.com/assets/colab-badge.svg\" alt=\"Open In Colab\"/></a>"
      ]
    },
    {
      "cell_type": "code",
      "execution_count": 2,
      "metadata": {
        "colab": {
          "base_uri": "https://localhost:8080/"
        },
        "id": "jLljhDkmgumF",
        "outputId": "290bce1e-5acb-4e72-bff0-a90a4f281b6b"
      },
      "outputs": [
        {
          "output_type": "stream",
          "name": "stdout",
          "text": [
            "10\n",
            "55\n"
          ]
        }
      ],
      "source": [
        "n = int(input())\n",
        "\n",
        "a = 0\n",
        "b = 1\n",
        "\n",
        "if n == 0:\n",
        "  print(a)\n",
        "elif n == 1:\n",
        "  print(b)\n",
        "else:\n",
        "  for n in range(n):\n",
        "    b1 = a + b\n",
        "    a = b\n",
        "    b = b1\n",
        "\n",
        "  print(a)"
      ]
    },
    {
      "cell_type": "code",
      "source": [
        "import sys\n",
        "n = int(sys.stdin.readline().rstrip())\n",
        "\n",
        "a = 0\n",
        "b = 1\n",
        "\n",
        "if n == 0:\n",
        "  print(a)\n",
        "elif n == 1:\n",
        "  print(b)\n",
        "else:\n",
        "  for n in range(n):\n",
        "    b1 = a + b\n",
        "    a = b\n",
        "    b = b1\n",
        "\n",
        "  print(a)"
      ],
      "metadata": {
        "id": "Avu0y2XhkzHJ"
      },
      "execution_count": null,
      "outputs": []
    }
  ]
}