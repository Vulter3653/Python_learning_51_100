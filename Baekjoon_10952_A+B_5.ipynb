{
  "nbformat": 4,
  "nbformat_minor": 0,
  "metadata": {
    "colab": {
      "name": "Baekjoon_10952_A+B - 5.ipynb",
      "provenance": [],
      "authorship_tag": "ABX9TyMEuOBDuVxmMe/NYiax2SGS",
      "include_colab_link": true
    },
    "kernelspec": {
      "name": "python3",
      "display_name": "Python 3"
    },
    "language_info": {
      "name": "python"
    }
  },
  "cells": [
    {
      "cell_type": "markdown",
      "metadata": {
        "id": "view-in-github",
        "colab_type": "text"
      },
      "source": [
        "<a href=\"https://colab.research.google.com/github/Vulter3653/Python_learning_51_100/blob/main/Baekjoon_10952_A%2BB_5.ipynb\" target=\"_parent\"><img src=\"https://colab.research.google.com/assets/colab-badge.svg\" alt=\"Open In Colab\"/></a>"
      ]
    },
    {
      "cell_type": "code",
      "execution_count": 2,
      "metadata": {
        "colab": {
          "base_uri": "https://localhost:8080/"
        },
        "id": "Mlc_9zddMEfo",
        "outputId": "c61d52c0-c805-4728-f6d4-1ed0186cf9bc"
      },
      "outputs": [
        {
          "name": "stdout",
          "output_type": "stream",
          "text": [
            "1 1\n",
            "2\n",
            "2 3\n",
            "5\n",
            "3 4\n",
            "7\n",
            "9 8\n",
            "17\n",
            "5 2\n",
            "7\n",
            "0 0\n"
          ]
        }
      ],
      "source": [
        "while True:\n",
        "  a,b = map(int,input().rstrip().split())\n",
        "  if a == 0 and b == 0:\n",
        "    break\n",
        "  print(a+b)"
      ]
    },
    {
      "cell_type": "code",
      "source": [
        "import sys\n",
        "\n",
        "while True:\n",
        "  a,b = map(int,sys.stdin.readline().rstrip().split())\n",
        "  if a == 0 and b == 0:\n",
        "    break\n",
        "  print(a+b)"
      ],
      "metadata": {
        "id": "zbuSbvEyMZKM"
      },
      "execution_count": null,
      "outputs": []
    }
  ]
}