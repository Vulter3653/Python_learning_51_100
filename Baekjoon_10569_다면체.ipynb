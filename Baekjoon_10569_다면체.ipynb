{
  "nbformat": 4,
  "nbformat_minor": 0,
  "metadata": {
    "colab": {
      "name": "Baekjoon_10569_다면체.ipynb",
      "provenance": [],
      "collapsed_sections": [],
      "authorship_tag": "ABX9TyMafkR0mnVhWssoVFF2UEQl",
      "include_colab_link": true
    },
    "kernelspec": {
      "name": "python3",
      "display_name": "Python 3"
    },
    "language_info": {
      "name": "python"
    }
  },
  "cells": [
    {
      "cell_type": "markdown",
      "metadata": {
        "id": "view-in-github",
        "colab_type": "text"
      },
      "source": [
        "<a href=\"https://colab.research.google.com/github/Vulter3653/Python_learning_51_100/blob/main/Baekjoon_10569_%EB%8B%A4%EB%A9%B4%EC%B2%B4.ipynb\" target=\"_parent\"><img src=\"https://colab.research.google.com/assets/colab-badge.svg\" alt=\"Open In Colab\"/></a>"
      ]
    },
    {
      "cell_type": "code",
      "execution_count": 1,
      "metadata": {
        "colab": {
          "base_uri": "https://localhost:8080/"
        },
        "id": "Z-NytGM8Ls-R",
        "outputId": "fd900c17-2950-4b38-d3aa-4fcfeac63749"
      },
      "outputs": [
        {
          "output_type": "stream",
          "name": "stdout",
          "text": [
            "2\n",
            "8 12\n",
            "6\n",
            "4 6\n",
            "4\n"
          ]
        }
      ],
      "source": [
        "for _ in range(int(input())):\n",
        "  V,E = map(int,input().rstrip().split())\n",
        "  print(2+E-V)"
      ]
    },
    {
      "cell_type": "code",
      "source": [
        "import sys\n",
        "\n",
        "for _ in range(int(sys.stdin.readline().rstrip())):\n",
        "  V,E = map(int,sys.stdin.readline().rstrip().split())\n",
        "  print(2+E-V)"
      ],
      "metadata": {
        "id": "bonzzrHCO3wB"
      },
      "execution_count": null,
      "outputs": []
    }
  ]
}