{
  "nbformat": 4,
  "nbformat_minor": 0,
  "metadata": {
    "colab": {
      "name": "Baekjoon_10833_사과.ipynb",
      "provenance": [],
      "authorship_tag": "ABX9TyO9q1eU5TCji3lJ739NlW/y",
      "include_colab_link": true
    },
    "kernelspec": {
      "name": "python3",
      "display_name": "Python 3"
    },
    "language_info": {
      "name": "python"
    }
  },
  "cells": [
    {
      "cell_type": "markdown",
      "metadata": {
        "id": "view-in-github",
        "colab_type": "text"
      },
      "source": [
        "<a href=\"https://colab.research.google.com/github/Vulter3653/Python_learning_51_100/blob/main/Baekjoon_10833_%EC%82%AC%EA%B3%BC.ipynb\" target=\"_parent\"><img src=\"https://colab.research.google.com/assets/colab-badge.svg\" alt=\"Open In Colab\"/></a>"
      ]
    },
    {
      "cell_type": "code",
      "execution_count": 2,
      "metadata": {
        "colab": {
          "base_uri": "https://localhost:8080/"
        },
        "id": "1xDuGcUANDAM",
        "outputId": "16b0910e-dca0-4961-c531-eeaa5291288c"
      },
      "outputs": [
        {
          "output_type": "stream",
          "name": "stdout",
          "text": [
            "5\n",
            "24 52\n",
            "13 22\n",
            "5 53\n",
            "23 10\n",
            "7 70\n",
            "26\n"
          ]
        }
      ],
      "source": [
        "apple = []\n",
        "for _ in range(int(input().rstrip())):\n",
        "  a,b = map(int,input().rstrip().split())\n",
        "  apple.append(b%a)\n",
        "print(sum(apple))"
      ]
    },
    {
      "cell_type": "code",
      "source": [
        "import sys\n",
        "\n",
        "apple = []\n",
        "for _ in range(int(sys.stdin.readline().rstrip())):\n",
        "  a,b = map(int,sys.stdin.readline().rstrip().split())\n",
        "  apple.append(b%a)\n",
        "print(sum(apple))"
      ],
      "metadata": {
        "id": "TbV_As93t2fL"
      },
      "execution_count": null,
      "outputs": []
    }
  ]
}