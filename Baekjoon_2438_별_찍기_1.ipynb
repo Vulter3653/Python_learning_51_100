{
  "nbformat": 4,
  "nbformat_minor": 0,
  "metadata": {
    "colab": {
      "name": "Baekjoon_2438_별 찍기 - 1.ipynb",
      "provenance": [],
      "authorship_tag": "ABX9TyP4pL7fvgmKZn2J7/JINdog",
      "include_colab_link": true
    },
    "kernelspec": {
      "name": "python3",
      "display_name": "Python 3"
    },
    "language_info": {
      "name": "python"
    }
  },
  "cells": [
    {
      "cell_type": "markdown",
      "metadata": {
        "id": "view-in-github",
        "colab_type": "text"
      },
      "source": [
        "<a href=\"https://colab.research.google.com/github/Vulter3653/Python_learning_51_100/blob/main/Baekjoon_2438_%EB%B3%84_%EC%B0%8D%EA%B8%B0_1.ipynb\" target=\"_parent\"><img src=\"https://colab.research.google.com/assets/colab-badge.svg\" alt=\"Open In Colab\"/></a>"
      ]
    },
    {
      "cell_type": "code",
      "execution_count": 1,
      "metadata": {
        "colab": {
          "base_uri": "https://localhost:8080/"
        },
        "id": "hOP_fSBKvfpK",
        "outputId": "7487e69b-f255-4653-9525-f0bcf50fcf75"
      },
      "outputs": [
        {
          "output_type": "stream",
          "name": "stdout",
          "text": [
            "5\n",
            "*\n",
            "**\n",
            "***\n",
            "****\n",
            "*****\n"
          ]
        }
      ],
      "source": [
        "a = int(input().rstrip())\n",
        "\n",
        "for x in range(1,a+1):\n",
        "  print(x*'*')"
      ]
    },
    {
      "cell_type": "code",
      "source": [
        "import sys\n",
        "a = int(sys.stdin.readline().rstrip())\n",
        "\n",
        "for x in range(1,a+1):\n",
        "  print(x*'*')"
      ],
      "metadata": {
        "id": "Ug0AVg6KvvX_"
      },
      "execution_count": null,
      "outputs": []
    }
  ]
}