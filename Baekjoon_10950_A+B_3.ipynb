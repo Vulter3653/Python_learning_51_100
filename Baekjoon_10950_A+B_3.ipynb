{
  "nbformat": 4,
  "nbformat_minor": 0,
  "metadata": {
    "colab": {
      "name": "Baekjoon_10950_A+B - 3.ipynb",
      "provenance": [],
      "authorship_tag": "ABX9TyM/tfdamTIovmhdX8lCuaJV",
      "include_colab_link": true
    },
    "kernelspec": {
      "name": "python3",
      "display_name": "Python 3"
    },
    "language_info": {
      "name": "python"
    }
  },
  "cells": [
    {
      "cell_type": "markdown",
      "metadata": {
        "id": "view-in-github",
        "colab_type": "text"
      },
      "source": [
        "<a href=\"https://colab.research.google.com/github/Vulter3653/Python_learning_51_100/blob/main/Baekjoon_10950_A%2BB_3.ipynb\" target=\"_parent\"><img src=\"https://colab.research.google.com/assets/colab-badge.svg\" alt=\"Open In Colab\"/></a>"
      ]
    },
    {
      "cell_type": "code",
      "execution_count": 1,
      "metadata": {
        "colab": {
          "base_uri": "https://localhost:8080/"
        },
        "id": "d8V6bBG2s2UB",
        "outputId": "f3c2aaac-1cf7-407f-d469-003a8e8fcf7f"
      },
      "outputs": [
        {
          "output_type": "stream",
          "name": "stdout",
          "text": [
            "5\n",
            "1 1\n",
            "2\n",
            "2 3\n",
            "5\n",
            "3 4\n",
            "7\n",
            "9 8\n",
            "17\n",
            "5 2\n",
            "7\n"
          ]
        }
      ],
      "source": [
        "for _ in range(int(input().rstrip())):\n",
        "  a,b = map(int,input().rstrip().split())\n",
        "  print(a+b)"
      ]
    },
    {
      "cell_type": "code",
      "source": [
        "import sys\n",
        "\n",
        "for _ in range(int(sys.stdin.readline().rstrip())):\n",
        "  a,b = map(int,sys.stdin.readline().rstrip().split())\n",
        "  print(a+b)"
      ],
      "metadata": {
        "id": "_H03lhqltSR0"
      },
      "execution_count": null,
      "outputs": []
    }
  ]
}