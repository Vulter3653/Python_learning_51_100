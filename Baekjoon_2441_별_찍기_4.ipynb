{
  "nbformat": 4,
  "nbformat_minor": 0,
  "metadata": {
    "colab": {
      "name": "Baekjoon_2441_별 찍기 - 4.ipynb",
      "provenance": [],
      "authorship_tag": "ABX9TyO8EbwKlPoKQ0tudvoLAZ79",
      "include_colab_link": true
    },
    "kernelspec": {
      "name": "python3",
      "display_name": "Python 3"
    },
    "language_info": {
      "name": "python"
    }
  },
  "cells": [
    {
      "cell_type": "markdown",
      "metadata": {
        "id": "view-in-github",
        "colab_type": "text"
      },
      "source": [
        "<a href=\"https://colab.research.google.com/github/Vulter3653/Python_learning_51_100/blob/main/Baekjoon_2441_%EB%B3%84_%EC%B0%8D%EA%B8%B0_4.ipynb\" target=\"_parent\"><img src=\"https://colab.research.google.com/assets/colab-badge.svg\" alt=\"Open In Colab\"/></a>"
      ]
    },
    {
      "cell_type": "code",
      "execution_count": 1,
      "metadata": {
        "colab": {
          "base_uri": "https://localhost:8080/"
        },
        "id": "eZPblcAvMhc0",
        "outputId": "0f344d39-5f67-48ed-e36f-27b5111f4b05"
      },
      "outputs": [
        {
          "output_type": "stream",
          "name": "stdout",
          "text": [
            "5\n",
            "*****\n",
            " ****\n",
            "  ***\n",
            "   **\n",
            "    *\n"
          ]
        }
      ],
      "source": [
        "x = int(input().rstrip())\n",
        "for a in range(x):\n",
        "  print(a*' '+(x-a)*'*') "
      ]
    },
    {
      "cell_type": "code",
      "source": [
        "import sys\n",
        "x = int(sys.stdin.readline().rstrip())\n",
        "for a in range(x):\n",
        "  print(a*' '+(x-a)*'*') "
      ],
      "metadata": {
        "id": "KMx0SgiMM4-c"
      },
      "execution_count": null,
      "outputs": []
    }
  ]
}