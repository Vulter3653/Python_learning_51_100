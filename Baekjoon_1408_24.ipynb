{
  "nbformat": 4,
  "nbformat_minor": 0,
  "metadata": {
    "colab": {
      "name": "Baekjoon_1408_24.ipynb",
      "provenance": [],
      "collapsed_sections": [],
      "authorship_tag": "ABX9TyM/PXDUlZsMh4x8FTCJCOj/",
      "include_colab_link": true
    },
    "kernelspec": {
      "name": "python3",
      "display_name": "Python 3"
    },
    "language_info": {
      "name": "python"
    }
  },
  "cells": [
    {
      "cell_type": "markdown",
      "metadata": {
        "id": "view-in-github",
        "colab_type": "text"
      },
      "source": [
        "<a href=\"https://colab.research.google.com/github/Vulter3653/Python_learning_51_100/blob/main/Baekjoon_1408_24.ipynb\" target=\"_parent\"><img src=\"https://colab.research.google.com/assets/colab-badge.svg\" alt=\"Open In Colab\"/></a>"
      ]
    },
    {
      "cell_type": "code",
      "execution_count": 11,
      "metadata": {
        "colab": {
          "base_uri": "https://localhost:8080/"
        },
        "id": "2Q_MrCH0Echi",
        "outputId": "cbdad6b9-4fc0-4abb-9a96-bd9fb6569536"
      },
      "outputs": [
        {
          "output_type": "stream",
          "name": "stdout",
          "text": [
            "13:52:30\n",
            "13:52:30\n",
            "00:00:00\n"
          ]
        }
      ],
      "source": [
        "a = list(map(int,input().rstrip().split(':')))\n",
        "b = list(map(int,input().rstrip().split(':')))\n",
        "\n",
        "if a[2] > b[2]:\n",
        "  b[1] -= 1\n",
        "  b[2] += 60\n",
        "\n",
        "if a[1] > b[1]:\n",
        "  b[0] -= 1\n",
        "  b[1] += +60\n",
        "\n",
        "if a[0] > b[0]:\n",
        "  b[0] += 24  \n",
        "\n",
        "x = b[0] - a[0]\n",
        "y = str(b[1] - a[1])\n",
        "z = str(b[2] - a[2])\n",
        "\n",
        "if x >= 24:\n",
        "  x -= 24\n",
        "x = str(x)  \n",
        "\n",
        "if len(x) != 2:\n",
        "  x = '0'+x\n",
        "if len(y) != 2:\n",
        "  y = '0'+y\n",
        "if len(z) != 2:\n",
        "  z = '0'+z\n",
        "\n",
        "print(x+\":\"+y+\":\"+z)"
      ]
    },
    {
      "cell_type": "code",
      "source": [
        "import sys\n",
        "\n",
        "a = list(map(int,sys.stdin.readline().rstrip().split(':')))\n",
        "b = list(map(int,sys.stdin.readline().rstrip().split(':')))\n",
        "\n",
        "if a[2] > b[2]:\n",
        "  b[1] -= 1\n",
        "  b[2] += 60\n",
        "\n",
        "if a[1] > b[1]:\n",
        "  b[0] -= 1\n",
        "  b[1] += +60\n",
        "\n",
        "if a[0] > b[0]:\n",
        "  b[0] += 24  \n",
        "\n",
        "x = b[0] - a[0]\n",
        "y = str(b[1] - a[1])\n",
        "z = str(b[2] - a[2])\n",
        "\n",
        "if x >= 24:\n",
        "  x -= 24\n",
        "x = str(x)  \n",
        "\n",
        "if len(x) != 2:\n",
        "  x = '0'+x\n",
        "if len(y) != 2:\n",
        "  y = '0'+y\n",
        "if len(z) != 2:\n",
        "  z = '0'+z\n",
        "\n",
        "print(x+\":\"+y+\":\"+z)"
      ],
      "metadata": {
        "id": "5KyzdGjLKEY8"
      },
      "execution_count": null,
      "outputs": []
    }
  ]
}