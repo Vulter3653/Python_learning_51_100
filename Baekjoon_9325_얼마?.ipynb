{
  "nbformat": 4,
  "nbformat_minor": 0,
  "metadata": {
    "colab": {
      "name": "Baekjoon_9325_얼마?.ipynb",
      "provenance": [],
      "authorship_tag": "ABX9TyNN9SQi2OrFM6q5c1cPKwpI",
      "include_colab_link": true
    },
    "kernelspec": {
      "name": "python3",
      "display_name": "Python 3"
    },
    "language_info": {
      "name": "python"
    }
  },
  "cells": [
    {
      "cell_type": "markdown",
      "metadata": {
        "id": "view-in-github",
        "colab_type": "text"
      },
      "source": [
        "<a href=\"https://colab.research.google.com/github/Vulter3653/Python_learning_51_100/blob/main/Baekjoon_9325_%EC%96%BC%EB%A7%88%3F.ipynb\" target=\"_parent\"><img src=\"https://colab.research.google.com/assets/colab-badge.svg\" alt=\"Open In Colab\"/></a>"
      ]
    },
    {
      "cell_type": "code",
      "execution_count": 3,
      "metadata": {
        "colab": {
          "base_uri": "https://localhost:8080/"
        },
        "id": "SiEVeGlPuWTd",
        "outputId": "b1d7beda-2ea8-4354-d7cb-911164d102d1"
      },
      "outputs": [
        {
          "output_type": "stream",
          "name": "stdout",
          "text": [
            "2\n",
            "10000\n",
            "2\n",
            "1 2000\n",
            "3 400\n",
            "13200\n",
            "50000\n",
            "0\n",
            "50000\n"
          ]
        }
      ],
      "source": [
        "for _ in range(int(input().rstrip())):\n",
        "  s = int(input().rstrip())\n",
        "  for _ in range(int(input().rstrip())):\n",
        "    a,b = map(int,input().rstrip().split())\n",
        "    s += a*b\n",
        "  print(s)"
      ]
    },
    {
      "cell_type": "code",
      "source": [
        "import sys\n",
        "\n",
        "for _ in range(int(sys.stdin.readline().rstrip())):\n",
        "  s = int(sys.stdin.readline().rstrip())\n",
        "  for _ in range(int(sys.stdin.readline().rstrip())):\n",
        "    a,b = map(int,sys.stdin.readline().rstrip().split())\n",
        "    s += a*b\n",
        "  print(s)"
      ],
      "metadata": {
        "id": "JoHc_xBIvg08"
      },
      "execution_count": null,
      "outputs": []
    }
  ]
}