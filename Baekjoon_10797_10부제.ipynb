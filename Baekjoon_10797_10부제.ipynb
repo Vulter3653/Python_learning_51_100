{
  "nbformat": 4,
  "nbformat_minor": 0,
  "metadata": {
    "colab": {
      "name": "Baekjoon_10797_10부제.ipynb",
      "provenance": [],
      "collapsed_sections": [],
      "authorship_tag": "ABX9TyMb8f/YFbWrArE2dLQfqvVa",
      "include_colab_link": true
    },
    "kernelspec": {
      "name": "python3",
      "display_name": "Python 3"
    },
    "language_info": {
      "name": "python"
    }
  },
  "cells": [
    {
      "cell_type": "markdown",
      "metadata": {
        "id": "view-in-github",
        "colab_type": "text"
      },
      "source": [
        "<a href=\"https://colab.research.google.com/github/Vulter3653/Python_learning_51_100/blob/main/Baekjoon_10797_10%EB%B6%80%EC%A0%9C.ipynb\" target=\"_parent\"><img src=\"https://colab.research.google.com/assets/colab-badge.svg\" alt=\"Open In Colab\"/></a>"
      ]
    },
    {
      "cell_type": "code",
      "execution_count": 3,
      "metadata": {
        "colab": {
          "base_uri": "https://localhost:8080/"
        },
        "id": "fA3Fn9Flnotl",
        "outputId": "dcf07ed7-73e9-4eb1-b1db-b6a839679b6c"
      },
      "outputs": [
        {
          "name": "stdout",
          "output_type": "stream",
          "text": [
            "5\n",
            "1 3 0 7 4\n"
          ]
        },
        {
          "output_type": "execute_result",
          "data": {
            "text/plain": [
              "0"
            ]
          },
          "metadata": {},
          "execution_count": 3
        }
      ],
      "source": [
        "a = int(input())\n",
        "\n",
        "b = list(map(int,input().rstrip().split()))\n",
        "\n",
        "print(b.count(a))"
      ]
    },
    {
      "cell_type": "code",
      "source": [
        "import sys\n",
        "\n",
        "a = int(sys.stdin.readline().rstrip())\n",
        "\n",
        "b = list(map(int,sys.stdin.readline().rstrip().split()))\n",
        "\n",
        "print(b.count(a))"
      ],
      "metadata": {
        "id": "mB3Cp2JooNNa"
      },
      "execution_count": null,
      "outputs": []
    }
  ]
}