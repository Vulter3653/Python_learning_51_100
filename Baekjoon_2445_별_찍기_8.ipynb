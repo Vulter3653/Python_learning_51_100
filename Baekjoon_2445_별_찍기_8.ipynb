{
  "nbformat": 4,
  "nbformat_minor": 0,
  "metadata": {
    "colab": {
      "name": "Baekjoon_2445_별 찍기 - 8.ipynb",
      "provenance": [],
      "collapsed_sections": [],
      "authorship_tag": "ABX9TyO99Oilrt+BlChaSy6GJ194",
      "include_colab_link": true
    },
    "kernelspec": {
      "name": "python3",
      "display_name": "Python 3"
    },
    "language_info": {
      "name": "python"
    }
  },
  "cells": [
    {
      "cell_type": "markdown",
      "metadata": {
        "id": "view-in-github",
        "colab_type": "text"
      },
      "source": [
        "<a href=\"https://colab.research.google.com/github/Vulter3653/Python_learning_51_100/blob/main/Baekjoon_2445_%EB%B3%84_%EC%B0%8D%EA%B8%B0_8.ipynb\" target=\"_parent\"><img src=\"https://colab.research.google.com/assets/colab-badge.svg\" alt=\"Open In Colab\"/></a>"
      ]
    },
    {
      "cell_type": "code",
      "execution_count": 2,
      "metadata": {
        "colab": {
          "base_uri": "https://localhost:8080/"
        },
        "id": "fNBwRKnXp7px",
        "outputId": "780e88db-b4cd-442c-bb92-79ff44e04db8"
      },
      "outputs": [
        {
          "output_type": "stream",
          "name": "stdout",
          "text": [
            "5\n",
            "*        *\n",
            "**      **\n",
            "***    ***\n",
            "****  ****\n",
            "**********\n",
            "****  ****\n",
            "***    ***\n",
            "**      **\n",
            "*        *\n"
          ]
        }
      ],
      "source": [
        "a = int(input())\n",
        "\n",
        "for x in range(1,a+1):\n",
        "  print('*'*x+' '*(a-x)+\" \"*(a-x)+\"*\"*x)\n",
        "for x in range(1,a):\n",
        "  print('*'*(a-x)+' '*(x)+\" \"*(x)+\"*\"*(a-x))"
      ]
    },
    {
      "cell_type": "code",
      "source": [
        "import sys\n",
        "\n",
        "a = int(sys.stdin.readline().rstrip())\n",
        "\n",
        "for x in range(1,a+1):\n",
        "  print('*'*x+' '*(a-x)+\" \"*(a-x)+\"*\"*x)\n",
        "for x in range(1,a):\n",
        "  print('*'*(a-x)+' '*(x)+\" \"*(x)+\"*\"*(a-x))"
      ],
      "metadata": {
        "id": "DtsmzwnRq7xf"
      },
      "execution_count": null,
      "outputs": []
    }
  ]
}