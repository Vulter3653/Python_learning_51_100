{
  "nbformat": 4,
  "nbformat_minor": 0,
  "metadata": {
    "colab": {
      "name": "Baekjoon_2523_별 찍기 - 13.ipynb",
      "provenance": [],
      "collapsed_sections": [],
      "authorship_tag": "ABX9TyMYagnO7/7nxMMAiyqK1xuP",
      "include_colab_link": true
    },
    "kernelspec": {
      "name": "python3",
      "display_name": "Python 3"
    },
    "language_info": {
      "name": "python"
    }
  },
  "cells": [
    {
      "cell_type": "markdown",
      "metadata": {
        "id": "view-in-github",
        "colab_type": "text"
      },
      "source": [
        "<a href=\"https://colab.research.google.com/github/Vulter3653/Python_learning_51_100/blob/main/Baekjoon_2523_%EB%B3%84_%EC%B0%8D%EA%B8%B0_13.ipynb\" target=\"_parent\"><img src=\"https://colab.research.google.com/assets/colab-badge.svg\" alt=\"Open In Colab\"/></a>"
      ]
    },
    {
      "cell_type": "code",
      "execution_count": 2,
      "metadata": {
        "colab": {
          "base_uri": "https://localhost:8080/"
        },
        "id": "TySdHQq47RPX",
        "outputId": "cb84271b-4c31-459e-d5c0-7af980228cf4"
      },
      "outputs": [
        {
          "output_type": "stream",
          "name": "stdout",
          "text": [
            "3\n",
            "*\n",
            "**\n",
            "***\n",
            "**\n",
            "*\n"
          ]
        }
      ],
      "source": [
        "n = int(input().rstrip())\n",
        "for x in range(1,n+1):\n",
        "  print('*'*x)\n",
        "\n",
        "n -= 1\n",
        "while n != 0 :\n",
        "  print('*'*n)\n",
        "  n -= 1"
      ]
    },
    {
      "cell_type": "code",
      "source": [
        "import sys\n",
        "\n",
        "n = int(sys.stdin.readline().rstrip())\n",
        "for x in range(1,n+1):\n",
        "  print('*'*x)\n",
        "\n",
        "n -= 1\n",
        "while n != 0 :\n",
        "  print('*'*n)\n",
        "  n -= 1"
      ],
      "metadata": {
        "id": "KO2Nbfkf79Uy"
      },
      "execution_count": null,
      "outputs": []
    }
  ]
}