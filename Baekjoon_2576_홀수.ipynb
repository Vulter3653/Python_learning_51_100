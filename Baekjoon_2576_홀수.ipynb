{
  "nbformat": 4,
  "nbformat_minor": 0,
  "metadata": {
    "colab": {
      "name": "Baekjoon_2576_홀수.ipynb",
      "provenance": [],
      "collapsed_sections": [],
      "authorship_tag": "ABX9TyONRlmoiesDKJvfPBD1hj8E",
      "include_colab_link": true
    },
    "kernelspec": {
      "name": "python3",
      "display_name": "Python 3"
    },
    "language_info": {
      "name": "python"
    }
  },
  "cells": [
    {
      "cell_type": "markdown",
      "metadata": {
        "id": "view-in-github",
        "colab_type": "text"
      },
      "source": [
        "<a href=\"https://colab.research.google.com/github/Vulter3653/Python_learning_51_100/blob/main/Baekjoon_2576_%ED%99%80%EC%88%98.ipynb\" target=\"_parent\"><img src=\"https://colab.research.google.com/assets/colab-badge.svg\" alt=\"Open In Colab\"/></a>"
      ]
    },
    {
      "cell_type": "code",
      "execution_count": 19,
      "metadata": {
        "colab": {
          "base_uri": "https://localhost:8080/"
        },
        "id": "0MWSfAJ15sL_",
        "outputId": "05f83e6b-a710-469f-a3e8-abdb837e243f"
      },
      "outputs": [
        {
          "output_type": "stream",
          "name": "stdout",
          "text": [
            "12\n",
            "77\n",
            "38\n",
            "41\n",
            "53\n",
            "92\n",
            "85\n",
            "256\n",
            "41\n"
          ]
        }
      ],
      "source": [
        "num = []\n",
        "num2 = 0\n",
        "for _ in range(7):\n",
        "  x = int(input().rstrip())\n",
        "  if x%2 == 1:\n",
        "    num.append(x)\n",
        "    num2 += x\n",
        "\n",
        "if len(num) != 0:\n",
        "  print(num2)\n",
        "  print(min(num))\n",
        "else:\n",
        "  print(-1)"
      ]
    },
    {
      "cell_type": "code",
      "source": [
        "import sys\n",
        "\n",
        "num = []\n",
        "num2 = 0\n",
        "for _ in range(7):\n",
        "  x = int(sys.stdin.readline().rstrip())\n",
        "  if x%2 == 1:\n",
        "    num.append(x)\n",
        "    num2 += x\n",
        "\n",
        "if len(num) != 0:\n",
        "  print(num2)\n",
        "  print(min(num))\n",
        "else:\n",
        "  print(-1)"
      ],
      "metadata": {
        "id": "R7HVEOZCC87x"
      },
      "execution_count": null,
      "outputs": []
    }
  ]
}