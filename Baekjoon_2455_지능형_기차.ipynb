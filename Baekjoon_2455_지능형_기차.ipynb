{
  "nbformat": 4,
  "nbformat_minor": 0,
  "metadata": {
    "colab": {
      "name": "Baekjoon_2455_지능형 기차.ipynb",
      "provenance": [],
      "collapsed_sections": [],
      "authorship_tag": "ABX9TyO+whMrf4qw/JWohsExdXUG",
      "include_colab_link": true
    },
    "kernelspec": {
      "name": "python3",
      "display_name": "Python 3"
    },
    "language_info": {
      "name": "python"
    }
  },
  "cells": [
    {
      "cell_type": "markdown",
      "metadata": {
        "id": "view-in-github",
        "colab_type": "text"
      },
      "source": [
        "<a href=\"https://colab.research.google.com/github/Vulter3653/Python_learning_51_100/blob/main/Baekjoon_2455_%EC%A7%80%EB%8A%A5%ED%98%95_%EA%B8%B0%EC%B0%A8.ipynb\" target=\"_parent\"><img src=\"https://colab.research.google.com/assets/colab-badge.svg\" alt=\"Open In Colab\"/></a>"
      ]
    },
    {
      "cell_type": "code",
      "execution_count": null,
      "metadata": {
        "colab": {
          "base_uri": "https://localhost:8080/"
        },
        "id": "yvEe0p8IKPvB",
        "outputId": "e549858a-1a6c-4a49-d19c-028742717db5"
      },
      "outputs": [
        {
          "output_type": "stream",
          "name": "stdout",
          "text": [
            "0 32\n",
            "3 13\n",
            "28 25\n",
            "39 0\n",
            "42\n"
          ]
        }
      ],
      "source": [
        "c = []\n",
        "x = 0\n",
        "for _ in range(4):\n",
        "  a,b = map(int,input().split())\n",
        "  x += (b-a)\n",
        "  c.append(x)\n",
        "print(max(c))"
      ]
    },
    {
      "cell_type": "code",
      "source": [
        "import sys\n",
        "\n",
        "c = []\n",
        "x = 0\n",
        "for _ in range(4):\n",
        "  a,b = map(int,sys.stdin.readline().rstrip().split())\n",
        "  x += (b-a)\n",
        "  c.append(x)\n",
        "print(max(c))"
      ],
      "metadata": {
        "id": "PGW6YmvnLFss"
      },
      "execution_count": null,
      "outputs": []
    }
  ]
}