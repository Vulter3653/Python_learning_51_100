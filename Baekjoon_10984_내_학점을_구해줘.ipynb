{
  "nbformat": 4,
  "nbformat_minor": 0,
  "metadata": {
    "colab": {
      "name": "Baekjoon_10984_내 학점을 구해줘.ipynb",
      "provenance": [],
      "authorship_tag": "ABX9TyNjBsDofS2IMzkTTfqOzj37",
      "include_colab_link": true
    },
    "kernelspec": {
      "name": "python3",
      "display_name": "Python 3"
    },
    "language_info": {
      "name": "python"
    }
  },
  "cells": [
    {
      "cell_type": "markdown",
      "metadata": {
        "id": "view-in-github",
        "colab_type": "text"
      },
      "source": [
        "<a href=\"https://colab.research.google.com/github/Vulter3653/Python_learning_51_100/blob/main/Baekjoon_10984_%EB%82%B4_%ED%95%99%EC%A0%90%EC%9D%84_%EA%B5%AC%ED%95%B4%EC%A4%98.ipynb\" target=\"_parent\"><img src=\"https://colab.research.google.com/assets/colab-badge.svg\" alt=\"Open In Colab\"/></a>"
      ]
    },
    {
      "cell_type": "code",
      "execution_count": 9,
      "metadata": {
        "colab": {
          "base_uri": "https://localhost:8080/"
        },
        "id": "h_TqVPDOI_ih",
        "outputId": "18330c46-b6da-4a58-df41-1cd7bbbe63d7"
      },
      "outputs": [
        {
          "output_type": "stream",
          "name": "stdout",
          "text": [
            "2\n",
            "4\n",
            "3 4.3\n",
            "2 2\n",
            "4 0.0\n",
            "2 4.0\n",
            "11 2.3\n",
            "3\n",
            "4 0.0\n",
            "4 0\n",
            "3 0\n",
            "11 0.0\n"
          ]
        }
      ],
      "source": [
        "import math\n",
        "\n",
        "for _ in range(int(input().rstrip())):\n",
        "  C = []\n",
        "  CG = []\n",
        "  for _ in range(int(input().rstrip())):\n",
        "    a,b = map(float,input().rstrip().split())\n",
        "    C.append(a)\n",
        "    CG.append(a*b)\n",
        "  print(str(int(sum(C)))+\" \"+str(round(sum(CG)/sum(C),1)))"
      ]
    },
    {
      "cell_type": "code",
      "source": [
        "import sys\n",
        "import math\n",
        "\n",
        "for _ in range(int(sys.stdin.readline().rstrip())):\n",
        "  C = []\n",
        "  CG = []\n",
        "  for _ in range(int(sys.stdin.readline().rstrip())):\n",
        "    a,b = map(float,sys.stdin.readline().rstrip().split())\n",
        "    C.append(a)\n",
        "    CG.append(a*b)\n",
        "  print(str(int(sum(C)))+\" \"+str(round(sum(CG)/sum(C),1)))"
      ],
      "metadata": {
        "id": "qc_N6yj1LT-u"
      },
      "execution_count": null,
      "outputs": []
    }
  ]
}