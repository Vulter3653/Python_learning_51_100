{
  "nbformat": 4,
  "nbformat_minor": 0,
  "metadata": {
    "colab": {
      "name": "Baekjoon_2562_최댓값.ipynb",
      "provenance": [],
      "authorship_tag": "ABX9TyNRoZTAtcGism/yq/au5Yk+",
      "include_colab_link": true
    },
    "kernelspec": {
      "name": "python3",
      "display_name": "Python 3"
    },
    "language_info": {
      "name": "python"
    }
  },
  "cells": [
    {
      "cell_type": "markdown",
      "metadata": {
        "id": "view-in-github",
        "colab_type": "text"
      },
      "source": [
        "<a href=\"https://colab.research.google.com/github/Vulter3653/Python_learning_51_100/blob/main/Baekjoon_2562_%EC%B5%9C%EB%8C%93%EA%B0%92.ipynb\" target=\"_parent\"><img src=\"https://colab.research.google.com/assets/colab-badge.svg\" alt=\"Open In Colab\"/></a>"
      ]
    },
    {
      "cell_type": "code",
      "execution_count": 1,
      "metadata": {
        "colab": {
          "base_uri": "https://localhost:8080/"
        },
        "id": "R9x2jBeV4hXG",
        "outputId": "95b04b54-4e40-4c37-d8f0-d9a4e5ee75a8"
      },
      "outputs": [
        {
          "output_type": "stream",
          "name": "stdout",
          "text": [
            "3\n",
            "29\n",
            "38\n",
            "12\n",
            "57\n",
            "74\n",
            "40\n",
            "85\n",
            "61\n",
            "85\n",
            "8\n"
          ]
        }
      ],
      "source": [
        "a = []\n",
        "\n",
        "for _ in range(9):\n",
        "  a.append(int(input().rstrip()))\n",
        "\n",
        "print(max(a))\n",
        "print(a.index(max(a))+1)"
      ]
    },
    {
      "cell_type": "code",
      "source": [
        "import sys\n",
        "\n",
        "a = []\n",
        "\n",
        "for _ in range(9):\n",
        "  a.append(int(sys.stdin.readline().rstrip()))\n",
        "\n",
        "print(max(a))\n",
        "print(a.index(max(a))+1)"
      ],
      "metadata": {
        "id": "YbL3twRo5FRJ"
      },
      "execution_count": null,
      "outputs": []
    }
  ]
}