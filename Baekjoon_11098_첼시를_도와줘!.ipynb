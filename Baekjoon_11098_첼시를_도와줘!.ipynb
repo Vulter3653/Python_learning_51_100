{
  "nbformat": 4,
  "nbformat_minor": 0,
  "metadata": {
    "colab": {
      "name": "Baekjoon_11098_첼시를 도와줘!.ipynb",
      "provenance": [],
      "authorship_tag": "ABX9TyN2I6thpspbqqzACcnasj5g",
      "include_colab_link": true
    },
    "kernelspec": {
      "name": "python3",
      "display_name": "Python 3"
    },
    "language_info": {
      "name": "python"
    }
  },
  "cells": [
    {
      "cell_type": "markdown",
      "metadata": {
        "id": "view-in-github",
        "colab_type": "text"
      },
      "source": [
        "<a href=\"https://colab.research.google.com/github/Vulter3653/Python_learning_51_100/blob/main/Baekjoon_11098_%EC%B2%BC%EC%8B%9C%EB%A5%BC_%EB%8F%84%EC%99%80%EC%A4%98!.ipynb\" target=\"_parent\"><img src=\"https://colab.research.google.com/assets/colab-badge.svg\" alt=\"Open In Colab\"/></a>"
      ]
    },
    {
      "cell_type": "code",
      "execution_count": 1,
      "metadata": {
        "colab": {
          "base_uri": "https://localhost:8080/"
        },
        "id": "zVmiHc2GfAET",
        "outputId": "123c7248-3775-4b8b-951a-8d176f6efac2"
      },
      "outputs": [
        {
          "output_type": "stream",
          "name": "stdout",
          "text": [
            "1\n"
          ]
        }
      ],
      "source": [
        "a = [1,2]\n",
        "print(a.index(max(a)))"
      ]
    },
    {
      "cell_type": "code",
      "source": [
        "T = int(input().rstrip())\n",
        "\n",
        "for _ in range(T):\n",
        "  n = int(input().rstrip())\n",
        "  price = []\n",
        "  sportsman = []\n",
        "  for n in range(n):\n",
        "    a,b = input().rstrip().split()\n",
        "    price.append(int(a))\n",
        "    sportsman.append(b)\n",
        "  print(sportsman[price.index(max(price))])"
      ],
      "metadata": {
        "colab": {
          "base_uri": "https://localhost:8080/"
        },
        "id": "_InWICz9fVDO",
        "outputId": "96af2984-ad73-4143-ea0d-779e119d6186"
      },
      "execution_count": 2,
      "outputs": [
        {
          "output_type": "stream",
          "name": "stdout",
          "text": [
            "2\n",
            "3\n",
            "10 Iversen\n",
            "1000000 Nannskog\n",
            "2000000 Ronaldinho\n",
            "Ronaldinho\n",
            "2\n",
            "1000000 Maradona\n",
            "999999 Batistuta\n",
            "Maradona\n"
          ]
        }
      ]
    },
    {
      "cell_type": "code",
      "source": [
        "import sys\n",
        "T = int(sys.stdin.readline().rstrip())\n",
        "\n",
        "for _ in range(T):\n",
        "  n = int(sys.stdin.readline().rstrip())\n",
        "  price = []\n",
        "  sportsman = []\n",
        "  for n in range(n):\n",
        "    a,b = sys.stdin.readline().rstrip().split()\n",
        "    price.append(int(a))\n",
        "    sportsman.append(b)\n",
        "  print(sportsman[price.index(max(price))])"
      ],
      "metadata": {
        "id": "Ak2vHVS1mwSE"
      },
      "execution_count": null,
      "outputs": []
    }
  ]
}