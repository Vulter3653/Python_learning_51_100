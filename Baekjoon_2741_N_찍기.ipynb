{
  "nbformat": 4,
  "nbformat_minor": 0,
  "metadata": {
    "colab": {
      "name": "Baekjoon_2741_N 찍기.ipynb",
      "provenance": [],
      "authorship_tag": "ABX9TyP3bdljj1+oCDsRG38yinnT",
      "include_colab_link": true
    },
    "kernelspec": {
      "name": "python3",
      "display_name": "Python 3"
    },
    "language_info": {
      "name": "python"
    }
  },
  "cells": [
    {
      "cell_type": "markdown",
      "metadata": {
        "id": "view-in-github",
        "colab_type": "text"
      },
      "source": [
        "<a href=\"https://colab.research.google.com/github/Vulter3653/Python_learning_51_100/blob/main/Baekjoon_2741_N_%EC%B0%8D%EA%B8%B0.ipynb\" target=\"_parent\"><img src=\"https://colab.research.google.com/assets/colab-badge.svg\" alt=\"Open In Colab\"/></a>"
      ]
    },
    {
      "cell_type": "code",
      "execution_count": 1,
      "metadata": {
        "colab": {
          "base_uri": "https://localhost:8080/"
        },
        "id": "dEDhSmqCt4El",
        "outputId": "c5639841-4cc6-442f-c178-28a43312571e"
      },
      "outputs": [
        {
          "output_type": "stream",
          "name": "stdout",
          "text": [
            "5\n",
            "1\n",
            "2\n",
            "3\n",
            "4\n",
            "5\n"
          ]
        }
      ],
      "source": [
        "a = int(input().rstrip())\n",
        "\n",
        "for x in range(1,a+1):\n",
        "  print(x)"
      ]
    },
    {
      "cell_type": "code",
      "source": [
        "import sys\n",
        "a = int(sys.stdin.readline().rstrip())\n",
        "\n",
        "for x in range(1,a+1):\n",
        "  print(x)"
      ],
      "metadata": {
        "id": "2YW3BvrcuFVO"
      },
      "execution_count": null,
      "outputs": []
    }
  ]
}