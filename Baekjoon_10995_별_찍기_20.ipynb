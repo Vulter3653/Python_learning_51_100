{
  "nbformat": 4,
  "nbformat_minor": 0,
  "metadata": {
    "colab": {
      "name": "Baekjoon_10995_별 찍기 - 20.ipynb",
      "provenance": [],
      "collapsed_sections": [],
      "authorship_tag": "ABX9TyOf+0k9PFZBvj19EROkW+SM",
      "include_colab_link": true
    },
    "kernelspec": {
      "name": "python3",
      "display_name": "Python 3"
    },
    "language_info": {
      "name": "python"
    }
  },
  "cells": [
    {
      "cell_type": "markdown",
      "metadata": {
        "id": "view-in-github",
        "colab_type": "text"
      },
      "source": [
        "<a href=\"https://colab.research.google.com/github/Vulter3653/Python_learning_51_100/blob/main/Baekjoon_10995_%EB%B3%84_%EC%B0%8D%EA%B8%B0_20.ipynb\" target=\"_parent\"><img src=\"https://colab.research.google.com/assets/colab-badge.svg\" alt=\"Open In Colab\"/></a>"
      ]
    },
    {
      "cell_type": "code",
      "execution_count": null,
      "metadata": {
        "colab": {
          "base_uri": "https://localhost:8080/"
        },
        "id": "4ZRh5Wp1LoDv",
        "outputId": "5b1d1e6d-a336-4e95-c782-4162dc50eafe"
      },
      "outputs": [
        {
          "output_type": "stream",
          "name": "stdout",
          "text": [
            "10\n",
            "* * * * * * * * * *\n",
            " * * * * * * * * * *\n",
            "* * * * * * * * * *\n",
            " * * * * * * * * * *\n",
            "* * * * * * * * * *\n",
            " * * * * * * * * * *\n",
            "* * * * * * * * * *\n",
            " * * * * * * * * * *\n",
            "* * * * * * * * * *\n",
            " * * * * * * * * * *\n"
          ]
        }
      ],
      "source": [
        "x = int(input())\n",
        "for a in range(1,x+1):\n",
        "  if a%2 == 1:\n",
        "    print('*'+' *'*(x-1))\n",
        "  else:\n",
        "    print(' *'+' *'*(x-1))"
      ]
    },
    {
      "cell_type": "code",
      "source": [
        "import sys\n",
        "x = int(sys.stdin.readline().rstrip())\n",
        "for a in range(1,x+1):\n",
        "  if a%2 == 1:\n",
        "    print('*'+' *'*(x-1))\n",
        "  else:\n",
        "    print(' *'+' *'*(x-1))"
      ],
      "metadata": {
        "id": "cLzi-4upM0M2"
      },
      "execution_count": null,
      "outputs": []
    }
  ]
}